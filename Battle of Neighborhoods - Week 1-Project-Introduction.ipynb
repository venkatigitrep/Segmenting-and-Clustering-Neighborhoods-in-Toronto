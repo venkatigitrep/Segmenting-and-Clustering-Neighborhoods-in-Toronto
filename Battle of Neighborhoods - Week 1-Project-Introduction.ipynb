{
 "cells": [
  {
   "cell_type": "markdown",
   "metadata": {},
   "source": [
    "<h1>Coursera Capstone Project</h1>"
   ]
  },
  {
   "cell_type": "markdown",
   "metadata": {},
   "source": [
    "<h2>The Battle of Neighborhoods (Week 1)</h2>\n",
    "<h3>Part 1 : Introduction and Data Sections</h3>"
   ]
  },
  {
   "cell_type": "markdown",
   "metadata": {},
   "source": [
    "<h3>Coursera Capstone - REPORT CONTENT</h3>\n",
    "\n",
    "<li>Introduction Section : ⁃ Discussion of the business problem and the interested audience in this project.</li>\n",
    "<li>Data Section:\n",
    "⁃ Description of the data that will be used to solve the problem and the sources.</li>\n",
    "<li>Methodology section ⁃ Discussion and description of exploratory data analysis carried out, any inferential statistical testing performed, and if any machine learnings were used establishing the strategy and purposes.</li>\n",
    "<li>Results section ⁃ Discussion of the results.</li>\n",
    "<li>Discussion section ⁃ Elaboration and discussion on any observations noted and any recommendations suggested based on the results.</li>\n",
    "<li>Conclusion section ⁃ Report Conclusion.</li>"
   ]
  },
  {
   "cell_type": "code",
   "execution_count": 1,
   "metadata": {},
   "outputs": [],
   "source": [
    "# A description of the problem and a discussion of the background. (15 marks)"
   ]
  },
  {
   "cell_type": "markdown",
   "metadata": {},
   "source": [
    "<h1>1. Introduction Section :</h1>\n",
    "<h2>Discussion of the business problem and the audience who would be interested in this project.</h2>\n",
    "<h2>Description of the Problem and Background</h2<\n",
    "<h2>Scenario:</h2\n",
    "<p>I am a data scientist residing in Downtown Singapore. I currently live within walking distance to Downtown Telok Ayer MRT metro station and I enjoy many ammenities and venues in the area, such as various international cousine restaurants, cafes, food shops and entertainment. I have been offered a great opportunity to work for a leader firm in Manhattan, NY. I am very excited and I want to use this opportunity to practice my learnings in Coursera in order to answer relevant questions arisen. The key question is : How can I find a convenient and enjoyable place similar to mine now in Singapore? Certainly, I can use available real estate apps and Google but the idea is to use and apply myself the learned tools during the course. In order to make a comparison and evaluation of the rental options in Manhattan NY, I must set some basis, therefore the apartment in Manhattan must meet the following demands:</p>\n",
    "\n",
    "<li> Apartment must be 2 or 3 bedrooms</li>\n",
    "<li> Desired location is near a metro station in the Manhattan area and within 1.0 mile (1.6 km) radius\n",
    "price of rent not exceed $7,000 per month </li>\n",
    "<li> Top ammenities in the selected neighborhood shall be similar to current residence</li>\n",
    "<li> Desirable to have venues such as coffee shops, restaurants Asian Thai, wine stores, gym and food shops</li>\n",
    "<li> As a reference, I have included a map of venues near current residence in Singapore.</li>\n",
    "<h3>Business Problem:</h3>\n",
    "<p>The challenge is to find a suitable apartment for rent in Manhattan NY that complies with the demands on location, price and venues. The data required to resolve this challenge is described in the following section 2, below.</h3>\n",
    "\n",
    "<h3>Interested Audience</h3>\n",
    "<p>I believe this is a relevant challenge with valid questions for anyone moving to other large city in US, EU or Asia. The same methodology can be applied in accordance to demands as applicable. This case is also applicable for anyone interested in exploring starting or locating a new business in any city. Lastly, it can also serve as a good practical exercise to develop Data Science skills.</h3>"
   ]
  },
  {
   "cell_type": "markdown",
   "metadata": {},
   "source": [
    "<h2>2. Data Section:</h2>\n",
    "<h3>Description of the data and its sources that will be used to solve the problem</h3>\n",
    "<h3>Description of the Data:</h3>\n",
    "The following data is required to answer the issues of the problem:\n",
    "\n",
    "<li>List of Boroughs and neighborhoods of Manhattan with their geodata (latitud and longitud)</li>\n",
    "<li>List of Subway metro stations in Manhattan with their address location</li>\n",
    "<li>List of apartments for rent in Manhattan area with their addresses and price</li>\n",
    "<li>Preferably, a list of apartment for rent with additional information, such as price, address, area, # of beds, etc.</li>\n",
    "<li>Venues for each Manhattan neighborhood ( than can be clustered)</li>\n",
    "<li>Venues for subway metro stations, as needed</li>\n",
    "<h3>How the data will be used to solve the problem</h3>\n",
    "<br>\n",
    "The data will be used as follows:\n",
    "<br>\n",
    "<li>Use Foursquare and geopy data to map top 10 venues for all Manhattan neighborhoods and clustered in groups ( as per Course LAB)</li>\n",
    "<li>Use foursquare and geopy data to map the location of subway metro stations , separately and on top of the above clustered map in order to be able to identify the venues and ammenities near each metro station, or explore each subway location separately</li>\n",
    "<li>Use Foursquare and geopy data to map the location of rental places, in some form, linked to the subway locations.</li>\n",
    "<li>Create a map that depicts, for instance, the average rental price per square ft, around a radious of 1.0 mile (1.6 km) around each subway station - or a similar metrics. I will be able to quickly point to the popups to know the relative price per subway area.</li>\n",
    "<li>Addresses from rental locations will be converted to geodata( lat, long) using Geopy-distance and Nominatim.</li>\n",
    "<li>Data will be searched in open data sources if available, from real estate sites if open to reading, libraries or other government agencies such as Metro New York MTA, etc.</li>\n",
    "\n",
    "The procesing of these DATA will allow to answer the key questions to make a decision:\n",
    "\n",
    "<li>What is the cost of rent (per square ft) around a mile radius from each subway metro station?</li>\n",
    "<li>What is the area of Manhattan with best rental pricing that meets criteria established?</li>\n",
    "<li>What is the distance from work place ( Park Ave and 53 rd St) and the tentative future home?</li>\n",
    "<li>What are the venues of the two best places to live? How the prices compare?</li>\n",
    "<li>How venues distribute among Manhattan neighborhoods and around metro stations?</li>\n",
    "<li>Are there tradeoffs between size and price and location?</li>\n",
    "<li>Any other interesting statistical data findings of the real estate and overall data.</li>\n"
   ]
  },
  {
   "cell_type": "code",
   "execution_count": null,
   "metadata": {},
   "outputs": [],
   "source": []
  }
 ],
 "metadata": {
  "kernelspec": {
   "display_name": "Python 3",
   "language": "python",
   "name": "python3"
  },
  "language_info": {
   "codemirror_mode": {
    "name": "ipython",
    "version": 3
   },
   "file_extension": ".py",
   "mimetype": "text/x-python",
   "name": "python",
   "nbconvert_exporter": "python",
   "pygments_lexer": "ipython3",
   "version": "3.7.4"
  }
 },
 "nbformat": 4,
 "nbformat_minor": 4
}
